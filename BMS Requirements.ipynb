{
 "cells": [
  {
   "cell_type": "code",
   "execution_count": 1,
   "metadata": {},
   "outputs": [],
   "source": [
    "import pandas as pd\n",
    "import time, json\n",
    "pd.options.mode.chained_assignment = None"
   ]
  },
  {
   "cell_type": "markdown",
   "metadata": {},
   "source": [
    "# Dataset Import & Pre-processing"
   ]
  },
  {
   "cell_type": "code",
   "execution_count": 2,
   "metadata": {},
   "outputs": [
    {
     "data": {
      "text/html": [
       "<div>\n",
       "<style scoped>\n",
       "    .dataframe tbody tr th:only-of-type {\n",
       "        vertical-align: middle;\n",
       "    }\n",
       "\n",
       "    .dataframe tbody tr th {\n",
       "        vertical-align: top;\n",
       "    }\n",
       "\n",
       "    .dataframe thead th {\n",
       "        text-align: right;\n",
       "    }\n",
       "</style>\n",
       "<table border=\"1\" class=\"dataframe\">\n",
       "  <thead>\n",
       "    <tr style=\"text-align: right;\">\n",
       "      <th></th>\n",
       "      <th>Req ID</th>\n",
       "      <th>Req Name</th>\n",
       "      <th>Description</th>\n",
       "      <th>Pre-requisite</th>\n",
       "      <th>Cost</th>\n",
       "      <th>Value</th>\n",
       "      <th>Test Cases</th>\n",
       "      <th>Importance</th>\n",
       "    </tr>\n",
       "  </thead>\n",
       "  <tbody>\n",
       "    <tr>\n",
       "      <th>0</th>\n",
       "      <td>101</td>\n",
       "      <td>URL</td>\n",
       "      <td>Unique web address to access the website</td>\n",
       "      <td>0</td>\n",
       "      <td>8</td>\n",
       "      <td>9</td>\n",
       "      <td>3</td>\n",
       "      <td>H</td>\n",
       "    </tr>\n",
       "    <tr>\n",
       "      <th>1</th>\n",
       "      <td>102</td>\n",
       "      <td>Choose Region Modal</td>\n",
       "      <td>To choose the city inorder to proceed</td>\n",
       "      <td>101</td>\n",
       "      <td>3</td>\n",
       "      <td>2</td>\n",
       "      <td>3</td>\n",
       "      <td>H</td>\n",
       "    </tr>\n",
       "    <tr>\n",
       "      <th>2</th>\n",
       "      <td>103</td>\n",
       "      <td>Home Page</td>\n",
       "      <td>Contains various...</td>\n",
       "      <td>102</td>\n",
       "      <td>7</td>\n",
       "      <td>8</td>\n",
       "      <td>5</td>\n",
       "      <td>H</td>\n",
       "    </tr>\n",
       "    <tr>\n",
       "      <th>3</th>\n",
       "      <td>104</td>\n",
       "      <td>Change Region</td>\n",
       "      <td>Enables to change the city</td>\n",
       "      <td>103</td>\n",
       "      <td>4</td>\n",
       "      <td>3</td>\n",
       "      <td>1</td>\n",
       "      <td>M</td>\n",
       "    </tr>\n",
       "    <tr>\n",
       "      <th>4</th>\n",
       "      <td>105</td>\n",
       "      <td>Search</td>\n",
       "      <td>To perform search</td>\n",
       "      <td>103</td>\n",
       "      <td>6</td>\n",
       "      <td>7</td>\n",
       "      <td>2</td>\n",
       "      <td>H</td>\n",
       "    </tr>\n",
       "    <tr>\n",
       "      <th>...</th>\n",
       "      <td>...</td>\n",
       "      <td>...</td>\n",
       "      <td>...</td>\n",
       "      <td>...</td>\n",
       "      <td>...</td>\n",
       "      <td>...</td>\n",
       "      <td>...</td>\n",
       "      <td>...</td>\n",
       "    </tr>\n",
       "    <tr>\n",
       "      <th>95</th>\n",
       "      <td>196</td>\n",
       "      <td>Brand Promotion</td>\n",
       "      <td>Corporate Brand Promotion</td>\n",
       "      <td>194</td>\n",
       "      <td>6</td>\n",
       "      <td>4</td>\n",
       "      <td>2</td>\n",
       "      <td>H</td>\n",
       "    </tr>\n",
       "    <tr>\n",
       "      <th>96</th>\n",
       "      <td>197</td>\n",
       "      <td>Bulk SMS Communication</td>\n",
       "      <td>Corporate feature enabling communication via S...</td>\n",
       "      <td>194</td>\n",
       "      <td>7</td>\n",
       "      <td>7</td>\n",
       "      <td>1</td>\n",
       "      <td>L</td>\n",
       "    </tr>\n",
       "    <tr>\n",
       "      <th>97</th>\n",
       "      <td>198</td>\n",
       "      <td>Corporate Gifting</td>\n",
       "      <td>Customizable Corporate Gifting schemes</td>\n",
       "      <td>194</td>\n",
       "      <td>4</td>\n",
       "      <td>8</td>\n",
       "      <td>3</td>\n",
       "      <td>M</td>\n",
       "    </tr>\n",
       "    <tr>\n",
       "      <th>98</th>\n",
       "      <td>199</td>\n",
       "      <td>Partner with BookMyShow</td>\n",
       "      <td>Partner with BookMyShow Corporate Suite</td>\n",
       "      <td>194</td>\n",
       "      <td>4</td>\n",
       "      <td>5</td>\n",
       "      <td>2</td>\n",
       "      <td>H</td>\n",
       "    </tr>\n",
       "    <tr>\n",
       "      <th>99</th>\n",
       "      <td>200</td>\n",
       "      <td>Logout</td>\n",
       "      <td>To logout from the current session</td>\n",
       "      <td>103</td>\n",
       "      <td>5</td>\n",
       "      <td>4</td>\n",
       "      <td>5</td>\n",
       "      <td>H</td>\n",
       "    </tr>\n",
       "  </tbody>\n",
       "</table>\n",
       "<p>100 rows × 8 columns</p>\n",
       "</div>"
      ],
      "text/plain": [
       "    Req ID                 Req Name  \\\n",
       "0      101                      URL   \n",
       "1      102      Choose Region Modal   \n",
       "2      103                Home Page   \n",
       "3      104            Change Region   \n",
       "4      105                   Search   \n",
       "..     ...                      ...   \n",
       "95     196          Brand Promotion   \n",
       "96     197   Bulk SMS Communication   \n",
       "97     198        Corporate Gifting   \n",
       "98     199  Partner with BookMyShow   \n",
       "99     200                   Logout   \n",
       "\n",
       "                                          Description  Pre-requisite  Cost  \\\n",
       "0            Unique web address to access the website              0     8   \n",
       "1               To choose the city inorder to proceed            101     3   \n",
       "2                                 Contains various...            102     7   \n",
       "3                          Enables to change the city            103     4   \n",
       "4                                  To perform search             103     6   \n",
       "..                                                ...            ...   ...   \n",
       "95                          Corporate Brand Promotion            194     6   \n",
       "96  Corporate feature enabling communication via S...            194     7   \n",
       "97            Customizable Corporate Gifting schemes             194     4   \n",
       "98            Partner with BookMyShow Corporate Suite            194     4   \n",
       "99                 To logout from the current session            103     5   \n",
       "\n",
       "    Value  Test Cases Importance  \n",
       "0       9           3          H  \n",
       "1       2           3          H  \n",
       "2       8           5          H  \n",
       "3       3           1          M  \n",
       "4       7           2          H  \n",
       "..    ...         ...        ...  \n",
       "95      4           2          H  \n",
       "96      7           1          L  \n",
       "97      8           3          M  \n",
       "98      5           2          H  \n",
       "99      4           5          H  \n",
       "\n",
       "[100 rows x 8 columns]"
      ]
     },
     "execution_count": 2,
     "metadata": {},
     "output_type": "execute_result"
    }
   ],
   "source": [
    "dfile = pd.read_csv(\"dataset/BMS Requirements.csv\")\n",
    "dfile"
   ]
  },
  {
   "cell_type": "code",
   "execution_count": 3,
   "metadata": {},
   "outputs": [],
   "source": [
    "dfile = dfile.drop([\"Description\",\"Test Cases\"], axis=1)"
   ]
  },
  {
   "cell_type": "code",
   "execution_count": 4,
   "metadata": {},
   "outputs": [
    {
     "data": {
      "text/plain": [
       "array([  0, 101, 102, 103, 105, 107, 112, 114, 127, 133, 136, 137, 138,\n",
       "       139, 142, 143, 146, 147, 164, 172, 174, 175, 179, 183, 188, 189,\n",
       "       192, 194])"
      ]
     },
     "execution_count": 4,
     "metadata": {},
     "output_type": "execute_result"
    }
   ],
   "source": [
    "dfile['Pre-requisite'].unique()"
   ]
  },
  {
   "cell_type": "code",
   "execution_count": 5,
   "metadata": {},
   "outputs": [],
   "source": [
    "PRE_REQ_C = [0]*dfile['Req ID'].count()\n",
    "dfile['PRE_REQ_COUNT'] = PRE_REQ_C"
   ]
  },
  {
   "cell_type": "code",
   "execution_count": 6,
   "metadata": {},
   "outputs": [],
   "source": [
    "def subLen(this):\n",
    "    if this in dfile['Pre-requisite'].values:\n",
    "        return len(dfile.loc[dfile['Pre-requisite'] == this,'Req ID'])\n",
    "    else:\n",
    "        return 0"
   ]
  },
  {
   "cell_type": "code",
   "execution_count": 7,
   "metadata": {},
   "outputs": [
    {
     "name": "stdout",
     "output_type": "stream",
     "text": [
      "ID: 101 \t-->[102]\n",
      "ID: 102 \t-->[103]\n",
      "ID: 103 \t-->[104, 105, 107, 113, 115, 116, 117, 118, 119, 120, 121, 122, 123, 124, 125, 126, 186, 187, 188, 194, 200]\n",
      "ID: 105 \t-->[106]\n",
      "ID: 107 \t-->[108, 109, 110, 111, 112]\n",
      "ID: 112 \t-->[114]\n",
      "ID: 114 \t-->[127, 163, 164, 178, 179]\n",
      "ID: 127 \t-->[128, 129, 130, 131, 132, 133, 134, 135]\n",
      "ID: 133 \t-->[136]\n",
      "ID: 136 \t-->[137]\n",
      "ID: 137 \t-->[138]\n",
      "ID: 138 \t-->[139]\n",
      "ID: 139 \t-->[140, 141, 142]\n",
      "ID: 142 \t-->[143]\n",
      "ID: 143 \t-->[144, 145, 146, 147]\n",
      "ID: 146 \t-->[148, 149, 150, 151, 152, 153, 154, 155, 156, 157]\n",
      "ID: 147 \t-->[158, 159, 160, 161, 162, 177, 185]\n",
      "ID: 164 \t-->[165, 166, 167, 168, 169, 170, 171, 172, 173]\n",
      "ID: 172 \t-->[174]\n",
      "ID: 174 \t-->[175]\n",
      "ID: 175 \t-->[176]\n",
      "ID: 179 \t-->[180, 181, 182, 183]\n",
      "ID: 183 \t-->[184]\n",
      "ID: 188 \t-->[189, 191, 192]\n",
      "ID: 189 \t-->[190]\n",
      "ID: 192 \t-->[193]\n",
      "ID: 194 \t-->[195, 196, 197, 198, 199]\n"
     ]
    }
   ],
   "source": [
    "for re in dfile['Req ID']:\n",
    "    if re in dfile['Pre-requisite'].values:\n",
    "        print(\"ID:\",re,\"\\t-->\",end=\"\")\n",
    "        print( list(dfile.loc[dfile['Pre-requisite'] == re,'Req ID']) )\n",
    "        dfile.loc[dfile['Req ID'] == re,'PRE_REQ_COUNT'] = dfile.loc[dfile['Pre-requisite'] == re,'Req ID'].count()\n",
    "        \n",
    "        for sub in list(dfile.loc[dfile['Pre-requisite'] == re,'Req ID']):\n",
    "            dfile.loc[dfile['Req ID'] == re,'PRE_REQ_COUNT'] += subLen(sub)      "
   ]
  },
  {
   "cell_type": "code",
   "execution_count": 8,
   "metadata": {},
   "outputs": [],
   "source": [
    "n = pd.get_dummies( dfile[\"Importance\"] )\n",
    "dfile=pd.concat([dfile,n],axis=1)\n",
    "dfile = dfile.drop(['Importance'], axis=1)"
   ]
  },
  {
   "cell_type": "code",
   "execution_count": 9,
   "metadata": {},
   "outputs": [],
   "source": [
    "Weightage = [0]*dfile['Req ID'].count()\n",
    "dfile['Weightage'] = Weightage"
   ]
  },
  {
   "cell_type": "code",
   "execution_count": 10,
   "metadata": {
    "scrolled": false
   },
   "outputs": [],
   "source": [
    "dfile['Weightage']=( dfile['PRE_REQ_COUNT']+\n",
    "    (10-(dfile['Cost'] / dfile['Value']))+\n",
    "    (10*dfile['H']) + (5*dfile['M']) + (1*dfile['L'])\n",
    ")"
   ]
  },
  {
   "cell_type": "code",
   "execution_count": 11,
   "metadata": {
    "scrolled": true
   },
   "outputs": [
    {
     "data": {
      "text/html": [
       "<div>\n",
       "<style scoped>\n",
       "    .dataframe tbody tr th:only-of-type {\n",
       "        vertical-align: middle;\n",
       "    }\n",
       "\n",
       "    .dataframe tbody tr th {\n",
       "        vertical-align: top;\n",
       "    }\n",
       "\n",
       "    .dataframe thead th {\n",
       "        text-align: right;\n",
       "    }\n",
       "</style>\n",
       "<table border=\"1\" class=\"dataframe\">\n",
       "  <thead>\n",
       "    <tr style=\"text-align: right;\">\n",
       "      <th></th>\n",
       "      <th>Req ID</th>\n",
       "      <th>Req Name</th>\n",
       "      <th>Pre-requisite</th>\n",
       "      <th>Cost</th>\n",
       "      <th>Value</th>\n",
       "      <th>PRE_REQ_COUNT</th>\n",
       "      <th>H</th>\n",
       "      <th>L</th>\n",
       "      <th>M</th>\n",
       "      <th>Weightage</th>\n",
       "    </tr>\n",
       "  </thead>\n",
       "  <tbody>\n",
       "    <tr>\n",
       "      <th>0</th>\n",
       "      <td>101</td>\n",
       "      <td>URL</td>\n",
       "      <td>0</td>\n",
       "      <td>8</td>\n",
       "      <td>9</td>\n",
       "      <td>2</td>\n",
       "      <td>1</td>\n",
       "      <td>0</td>\n",
       "      <td>0</td>\n",
       "      <td>21.111111</td>\n",
       "    </tr>\n",
       "    <tr>\n",
       "      <th>1</th>\n",
       "      <td>102</td>\n",
       "      <td>Choose Region Modal</td>\n",
       "      <td>101</td>\n",
       "      <td>3</td>\n",
       "      <td>2</td>\n",
       "      <td>22</td>\n",
       "      <td>1</td>\n",
       "      <td>0</td>\n",
       "      <td>0</td>\n",
       "      <td>40.500000</td>\n",
       "    </tr>\n",
       "    <tr>\n",
       "      <th>2</th>\n",
       "      <td>103</td>\n",
       "      <td>Home Page</td>\n",
       "      <td>102</td>\n",
       "      <td>7</td>\n",
       "      <td>8</td>\n",
       "      <td>35</td>\n",
       "      <td>1</td>\n",
       "      <td>0</td>\n",
       "      <td>0</td>\n",
       "      <td>54.125000</td>\n",
       "    </tr>\n",
       "    <tr>\n",
       "      <th>3</th>\n",
       "      <td>104</td>\n",
       "      <td>Change Region</td>\n",
       "      <td>103</td>\n",
       "      <td>4</td>\n",
       "      <td>3</td>\n",
       "      <td>0</td>\n",
       "      <td>0</td>\n",
       "      <td>0</td>\n",
       "      <td>1</td>\n",
       "      <td>13.666667</td>\n",
       "    </tr>\n",
       "    <tr>\n",
       "      <th>4</th>\n",
       "      <td>105</td>\n",
       "      <td>Search</td>\n",
       "      <td>103</td>\n",
       "      <td>6</td>\n",
       "      <td>7</td>\n",
       "      <td>1</td>\n",
       "      <td>1</td>\n",
       "      <td>0</td>\n",
       "      <td>0</td>\n",
       "      <td>20.142857</td>\n",
       "    </tr>\n",
       "    <tr>\n",
       "      <th>...</th>\n",
       "      <td>...</td>\n",
       "      <td>...</td>\n",
       "      <td>...</td>\n",
       "      <td>...</td>\n",
       "      <td>...</td>\n",
       "      <td>...</td>\n",
       "      <td>...</td>\n",
       "      <td>...</td>\n",
       "      <td>...</td>\n",
       "      <td>...</td>\n",
       "    </tr>\n",
       "    <tr>\n",
       "      <th>95</th>\n",
       "      <td>196</td>\n",
       "      <td>Brand Promotion</td>\n",
       "      <td>194</td>\n",
       "      <td>6</td>\n",
       "      <td>4</td>\n",
       "      <td>0</td>\n",
       "      <td>1</td>\n",
       "      <td>0</td>\n",
       "      <td>0</td>\n",
       "      <td>18.500000</td>\n",
       "    </tr>\n",
       "    <tr>\n",
       "      <th>96</th>\n",
       "      <td>197</td>\n",
       "      <td>Bulk SMS Communication</td>\n",
       "      <td>194</td>\n",
       "      <td>7</td>\n",
       "      <td>7</td>\n",
       "      <td>0</td>\n",
       "      <td>0</td>\n",
       "      <td>1</td>\n",
       "      <td>0</td>\n",
       "      <td>10.000000</td>\n",
       "    </tr>\n",
       "    <tr>\n",
       "      <th>97</th>\n",
       "      <td>198</td>\n",
       "      <td>Corporate Gifting</td>\n",
       "      <td>194</td>\n",
       "      <td>4</td>\n",
       "      <td>8</td>\n",
       "      <td>0</td>\n",
       "      <td>0</td>\n",
       "      <td>0</td>\n",
       "      <td>1</td>\n",
       "      <td>14.500000</td>\n",
       "    </tr>\n",
       "    <tr>\n",
       "      <th>98</th>\n",
       "      <td>199</td>\n",
       "      <td>Partner with BookMyShow</td>\n",
       "      <td>194</td>\n",
       "      <td>4</td>\n",
       "      <td>5</td>\n",
       "      <td>0</td>\n",
       "      <td>1</td>\n",
       "      <td>0</td>\n",
       "      <td>0</td>\n",
       "      <td>19.200000</td>\n",
       "    </tr>\n",
       "    <tr>\n",
       "      <th>99</th>\n",
       "      <td>200</td>\n",
       "      <td>Logout</td>\n",
       "      <td>103</td>\n",
       "      <td>5</td>\n",
       "      <td>4</td>\n",
       "      <td>0</td>\n",
       "      <td>1</td>\n",
       "      <td>0</td>\n",
       "      <td>0</td>\n",
       "      <td>18.750000</td>\n",
       "    </tr>\n",
       "  </tbody>\n",
       "</table>\n",
       "<p>100 rows × 10 columns</p>\n",
       "</div>"
      ],
      "text/plain": [
       "    Req ID                 Req Name  Pre-requisite  Cost  Value  \\\n",
       "0      101                      URL              0     8      9   \n",
       "1      102      Choose Region Modal            101     3      2   \n",
       "2      103                Home Page            102     7      8   \n",
       "3      104            Change Region            103     4      3   \n",
       "4      105                   Search            103     6      7   \n",
       "..     ...                      ...            ...   ...    ...   \n",
       "95     196          Brand Promotion            194     6      4   \n",
       "96     197   Bulk SMS Communication            194     7      7   \n",
       "97     198        Corporate Gifting            194     4      8   \n",
       "98     199  Partner with BookMyShow            194     4      5   \n",
       "99     200                   Logout            103     5      4   \n",
       "\n",
       "    PRE_REQ_COUNT  H  L  M  Weightage  \n",
       "0               2  1  0  0  21.111111  \n",
       "1              22  1  0  0  40.500000  \n",
       "2              35  1  0  0  54.125000  \n",
       "3               0  0  0  1  13.666667  \n",
       "4               1  1  0  0  20.142857  \n",
       "..            ... .. .. ..        ...  \n",
       "95              0  1  0  0  18.500000  \n",
       "96              0  0  1  0  10.000000  \n",
       "97              0  0  0  1  14.500000  \n",
       "98              0  1  0  0  19.200000  \n",
       "99              0  1  0  0  18.750000  \n",
       "\n",
       "[100 rows x 10 columns]"
      ]
     },
     "execution_count": 11,
     "metadata": {},
     "output_type": "execute_result"
    }
   ],
   "source": [
    "dfile"
   ]
  },
  {
   "cell_type": "markdown",
   "metadata": {},
   "source": [
    "# Function for algorithm input"
   ]
  },
  {
   "cell_type": "code",
   "execution_count": 12,
   "metadata": {},
   "outputs": [],
   "source": [
    "def obj_function(genome):\n",
    "    x1, x2, x3, x4, x5, x6 = genome\n",
    "    \n",
    "    if x5==x6:\n",
    "        x6=0\n",
    "    if x4==x5 or x4==x6:\n",
    "        x5 = x6 = 0\n",
    "    if x4>x5 and x4>x6:\n",
    "        x5 = x6 = 0\n",
    "    if x5>x6 and x5>x4:\n",
    "        x4 = x6 = 0\n",
    "    if x6>x4 and x6>x5:\n",
    "        x4 = x5 = 0\n",
    "        \n",
    "    if x3==0:\n",
    "        return 0\n",
    "    else:\n",
    "        return x1 + (10-(x2/x3)) + (x4*9) + (x5*5) + (x6*1)"
   ]
  },
  {
   "cell_type": "code",
   "execution_count": 13,
   "metadata": {},
   "outputs": [],
   "source": [
    "maximumIterations = 30"
   ]
  },
  {
   "cell_type": "markdown",
   "metadata": {},
   "source": [
    "# Genetic Algorithm"
   ]
  },
  {
   "cell_type": "code",
   "execution_count": 14,
   "metadata": {
    "scrolled": true
   },
   "outputs": [
    {
     "data": {
      "image/png": "[encoded data removed]",
      "text/plain": [
       "<Figure size 1440x360 with 1 Axes>"
      ]
     },
     "metadata": {
      "needs_background": "light"
     },
     "output_type": "display_data"
    },
    {
     "name": "stdout",
     "output_type": "stream",
     "text": [
      "Best values for x:  [35  2  6  1  1  1]\n",
      "Best value for f(x): 53.666666666666664\n"
     ]
    }
   ],
   "source": [
    "ga_start = time.time()\n",
    "\n",
    "from GA import GeneticAlgorithm\n",
    "\n",
    "ga = GeneticAlgorithm(\n",
    "    obj_function, \n",
    "    pop_size=100, \n",
    "    genome_length=6,\n",
    "    lb=[dfile['PRE_REQ_COUNT'].min(), dfile['Cost'].min(), dfile['Value'].min(), 0, 0, 0 ],\n",
    "    ub=[dfile['PRE_REQ_COUNT'].max(), dfile['Cost'].max(), dfile['Value'].max(), 1, 1, 1]\n",
    ")\n",
    "ga.generate_binary_population()\n",
    "ga.number_of_pairs = 4\n",
    "\n",
    "ga.selective_pressure = 1.2\n",
    "ga.mutation_rate = 0.9\n",
    "\n",
    "ga.run(maximumIterations)\n",
    "\n",
    "ga_total = time.time() - ga_start\n",
    "\n",
    "best_genome, best_fitness = ga.get_best_genome()\n",
    "print(\"Best values for x: \", best_genome)\n",
    "print(\"Best value for f(x):\", best_fitness)"
   ]
  },
  {
   "cell_type": "code",
   "execution_count": 15,
   "metadata": {},
   "outputs": [
    {
     "name": "stdout",
     "output_type": "stream",
     "text": [
      "GA took  0.39062976837158203  seconds\n"
     ]
    }
   ],
   "source": [
    "print(\"GA took \",ga_total,\" seconds\")"
   ]
  },
  {
   "cell_type": "markdown",
   "metadata": {},
   "source": [
    "## Output based on GA"
   ]
  },
  {
   "cell_type": "code",
   "execution_count": 16,
   "metadata": {},
   "outputs": [],
   "source": [
    "gafile = dfile.copy()"
   ]
  },
  {
   "cell_type": "code",
   "execution_count": 17,
   "metadata": {},
   "outputs": [],
   "source": [
    "gafile['Difference'] = abs( gafile['Weightage']-best_fitness )\n",
    "gafile.sort_values('Difference', ascending=True, axis=0, inplace = True)"
   ]
  },
  {
   "cell_type": "code",
   "execution_count": 18,
   "metadata": {},
   "outputs": [],
   "source": [
    "gafile = gafile.drop(['H', 'L', 'M'], axis=1)\n",
    "gafile = gafile.reset_index(drop=True)"
   ]
  },
  {
   "cell_type": "code",
   "execution_count": 19,
   "metadata": {},
   "outputs": [
    {
     "data": {
      "text/html": [
       "<div>\n",
       "<style scoped>\n",
       "    .dataframe tbody tr th:only-of-type {\n",
       "        vertical-align: middle;\n",
       "    }\n",
       "\n",
       "    .dataframe tbody tr th {\n",
       "        vertical-align: top;\n",
       "    }\n",
       "\n",
       "    .dataframe thead th {\n",
       "        text-align: right;\n",
       "    }\n",
       "</style>\n",
       "<table border=\"1\" class=\"dataframe\">\n",
       "  <thead>\n",
       "    <tr style=\"text-align: right;\">\n",
       "      <th></th>\n",
       "      <th>Req ID</th>\n",
       "      <th>Req Name</th>\n",
       "      <th>Pre-requisite</th>\n",
       "      <th>Cost</th>\n",
       "      <th>Value</th>\n",
       "      <th>PRE_REQ_COUNT</th>\n",
       "      <th>Weightage</th>\n",
       "      <th>Difference</th>\n",
       "    </tr>\n",
       "  </thead>\n",
       "  <tbody>\n",
       "    <tr>\n",
       "      <th>0</th>\n",
       "      <td>103</td>\n",
       "      <td>Home Page</td>\n",
       "      <td>102</td>\n",
       "      <td>7</td>\n",
       "      <td>8</td>\n",
       "      <td>35</td>\n",
       "      <td>54.125000</td>\n",
       "      <td>0.458333</td>\n",
       "    </tr>\n",
       "    <tr>\n",
       "      <th>1</th>\n",
       "      <td>143</td>\n",
       "      <td>Proceed for Payment</td>\n",
       "      <td>142</td>\n",
       "      <td>1</td>\n",
       "      <td>7</td>\n",
       "      <td>21</td>\n",
       "      <td>40.857143</td>\n",
       "      <td>12.809524</td>\n",
       "    </tr>\n",
       "    <tr>\n",
       "      <th>2</th>\n",
       "      <td>102</td>\n",
       "      <td>Choose Region Modal</td>\n",
       "      <td>101</td>\n",
       "      <td>3</td>\n",
       "      <td>2</td>\n",
       "      <td>22</td>\n",
       "      <td>40.500000</td>\n",
       "      <td>13.166667</td>\n",
       "    </tr>\n",
       "    <tr>\n",
       "      <th>3</th>\n",
       "      <td>114</td>\n",
       "      <td>Category List</td>\n",
       "      <td>112</td>\n",
       "      <td>5</td>\n",
       "      <td>7</td>\n",
       "      <td>26</td>\n",
       "      <td>40.285714</td>\n",
       "      <td>13.380952</td>\n",
       "    </tr>\n",
       "    <tr>\n",
       "      <th>4</th>\n",
       "      <td>164</td>\n",
       "      <td>Check Event</td>\n",
       "      <td>114</td>\n",
       "      <td>3</td>\n",
       "      <td>6</td>\n",
       "      <td>10</td>\n",
       "      <td>29.500000</td>\n",
       "      <td>24.166667</td>\n",
       "    </tr>\n",
       "    <tr>\n",
       "      <th>...</th>\n",
       "      <td>...</td>\n",
       "      <td>...</td>\n",
       "      <td>...</td>\n",
       "      <td>...</td>\n",
       "      <td>...</td>\n",
       "      <td>...</td>\n",
       "      <td>...</td>\n",
       "      <td>...</td>\n",
       "    </tr>\n",
       "    <tr>\n",
       "      <th>95</th>\n",
       "      <td>132</td>\n",
       "      <td>Share Movie</td>\n",
       "      <td>127</td>\n",
       "      <td>8</td>\n",
       "      <td>5</td>\n",
       "      <td>0</td>\n",
       "      <td>9.400000</td>\n",
       "      <td>44.266667</td>\n",
       "    </tr>\n",
       "    <tr>\n",
       "      <th>96</th>\n",
       "      <td>110</td>\n",
       "      <td>Continue with Google</td>\n",
       "      <td>107</td>\n",
       "      <td>7</td>\n",
       "      <td>3</td>\n",
       "      <td>0</td>\n",
       "      <td>8.666667</td>\n",
       "      <td>45.000000</td>\n",
       "    </tr>\n",
       "    <tr>\n",
       "      <th>97</th>\n",
       "      <td>170</td>\n",
       "      <td>Event Terms</td>\n",
       "      <td>164</td>\n",
       "      <td>3</td>\n",
       "      <td>1</td>\n",
       "      <td>0</td>\n",
       "      <td>8.000000</td>\n",
       "      <td>45.666667</td>\n",
       "    </tr>\n",
       "    <tr>\n",
       "      <th>98</th>\n",
       "      <td>115</td>\n",
       "      <td>Customer Care</td>\n",
       "      <td>103</td>\n",
       "      <td>7</td>\n",
       "      <td>2</td>\n",
       "      <td>0</td>\n",
       "      <td>7.500000</td>\n",
       "      <td>46.166667</td>\n",
       "    </tr>\n",
       "    <tr>\n",
       "      <th>99</th>\n",
       "      <td>109</td>\n",
       "      <td>Continue with Facebook</td>\n",
       "      <td>107</td>\n",
       "      <td>7</td>\n",
       "      <td>1</td>\n",
       "      <td>0</td>\n",
       "      <td>4.000000</td>\n",
       "      <td>49.666667</td>\n",
       "    </tr>\n",
       "  </tbody>\n",
       "</table>\n",
       "<p>100 rows × 8 columns</p>\n",
       "</div>"
      ],
      "text/plain": [
       "    Req ID                Req Name  Pre-requisite  Cost  Value  PRE_REQ_COUNT  \\\n",
       "0      103               Home Page            102     7      8             35   \n",
       "1      143     Proceed for Payment            142     1      7             21   \n",
       "2      102     Choose Region Modal            101     3      2             22   \n",
       "3      114           Category List            112     5      7             26   \n",
       "4      164             Check Event            114     3      6             10   \n",
       "..     ...                     ...            ...   ...    ...            ...   \n",
       "95     132            Share Movie             127     8      5              0   \n",
       "96     110    Continue with Google            107     7      3              0   \n",
       "97     170             Event Terms            164     3      1              0   \n",
       "98     115           Customer Care            103     7      2              0   \n",
       "99     109  Continue with Facebook            107     7      1              0   \n",
       "\n",
       "    Weightage  Difference  \n",
       "0   54.125000    0.458333  \n",
       "1   40.857143   12.809524  \n",
       "2   40.500000   13.166667  \n",
       "3   40.285714   13.380952  \n",
       "4   29.500000   24.166667  \n",
       "..        ...         ...  \n",
       "95   9.400000   44.266667  \n",
       "96   8.666667   45.000000  \n",
       "97   8.000000   45.666667  \n",
       "98   7.500000   46.166667  \n",
       "99   4.000000   49.666667  \n",
       "\n",
       "[100 rows x 8 columns]"
      ]
     },
     "execution_count": 19,
     "metadata": {},
     "output_type": "execute_result"
    }
   ],
   "source": [
    "gafile"
   ]
  },
  {
   "cell_type": "code",
   "execution_count": 20,
   "metadata": {},
   "outputs": [],
   "source": [
    "gafile.to_csv('output/GA ouput.csv', index=False, encoding='utf-8')"
   ]
  },
  {
   "cell_type": "markdown",
   "metadata": {},
   "source": [
    "# Particle Swarm Optimization"
   ]
  },
  {
   "cell_type": "code",
   "execution_count": 21,
   "metadata": {},
   "outputs": [
    {
     "data": {
      "image/png": "[encoded data removed]",
      "text/plain": [
       "<Figure size 1800x648 with 1 Axes>"
      ]
     },
     "metadata": {
      "needs_background": "light"
     },
     "output_type": "display_data"
    },
    {
     "name": "stdout",
     "output_type": "stream",
     "text": [
      "Best values of x:  [35.   5.4  9.   1.   1.   1. ]\n",
      "Best values of f(x):  53.4\n"
     ]
    }
   ],
   "source": [
    "pso_start = time.time()\n",
    "\n",
    "from PSO import PSO\n",
    "\n",
    "instance = PSO(\n",
    "    func=obj_function,\n",
    "    dim=6,\n",
    "    lb=[dfile['PRE_REQ_COUNT'].min(), dfile['Cost'].min(), dfile['Value'].min(), 0, 0, 0 ],\n",
    "    ub=[dfile['PRE_REQ_COUNT'].max(), dfile['Cost'].max(), dfile['Value'].max(), 1, 1, 1])\n",
    "\n",
    "pso_result = instance.run(max_iter=maximumIterations)\n",
    "\n",
    "pso_total = time.time()-pso_start\n",
    "\n",
    "print(\"Best values of x: \", pso_result.gbest_x)\n",
    "print(\"Best values of f(x): \", pso_result.gbest_y)"
   ]
  },
  {
   "cell_type": "code",
   "execution_count": 22,
   "metadata": {},
   "outputs": [
    {
     "name": "stdout",
     "output_type": "stream",
     "text": [
      "PSO took  0.3987715244293213  seconds\n"
     ]
    }
   ],
   "source": [
    "print(\"PSO took \",pso_total,\" seconds\")"
   ]
  },
  {
   "cell_type": "markdown",
   "metadata": {},
   "source": [
    "## Output based on PSO"
   ]
  },
  {
   "cell_type": "code",
   "execution_count": 23,
   "metadata": {},
   "outputs": [],
   "source": [
    "psofile = dfile.copy()"
   ]
  },
  {
   "cell_type": "code",
   "execution_count": 24,
   "metadata": {},
   "outputs": [],
   "source": [
    "psofile['Difference'] = abs( psofile['Weightage']-best_fitness )\n",
    "psofile.sort_values('Difference', ascending=True, axis=0, inplace = True)"
   ]
  },
  {
   "cell_type": "code",
   "execution_count": 25,
   "metadata": {},
   "outputs": [],
   "source": [
    "psofile = psofile.drop(['H', 'L', 'M'], axis=1)\n",
    "psofile = psofile.reset_index(drop=True)"
   ]
  },
  {
   "cell_type": "code",
   "execution_count": 26,
   "metadata": {},
   "outputs": [
    {
     "data": {
      "text/html": [
       "<div>\n",
       "<style scoped>\n",
       "    .dataframe tbody tr th:only-of-type {\n",
       "        vertical-align: middle;\n",
       "    }\n",
       "\n",
       "    .dataframe tbody tr th {\n",
       "        vertical-align: top;\n",
       "    }\n",
       "\n",
       "    .dataframe thead th {\n",
       "        text-align: right;\n",
       "    }\n",
       "</style>\n",
       "<table border=\"1\" class=\"dataframe\">\n",
       "  <thead>\n",
       "    <tr style=\"text-align: right;\">\n",
       "      <th></th>\n",
       "      <th>Req ID</th>\n",
       "      <th>Req Name</th>\n",
       "      <th>Pre-requisite</th>\n",
       "      <th>Cost</th>\n",
       "      <th>Value</th>\n",
       "      <th>PRE_REQ_COUNT</th>\n",
       "      <th>Weightage</th>\n",
       "      <th>Difference</th>\n",
       "    </tr>\n",
       "  </thead>\n",
       "  <tbody>\n",
       "    <tr>\n",
       "      <th>0</th>\n",
       "      <td>103</td>\n",
       "      <td>Home Page</td>\n",
       "      <td>102</td>\n",
       "      <td>7</td>\n",
       "      <td>8</td>\n",
       "      <td>35</td>\n",
       "      <td>54.125000</td>\n",
       "      <td>0.458333</td>\n",
       "    </tr>\n",
       "    <tr>\n",
       "      <th>1</th>\n",
       "      <td>143</td>\n",
       "      <td>Proceed for Payment</td>\n",
       "      <td>142</td>\n",
       "      <td>1</td>\n",
       "      <td>7</td>\n",
       "      <td>21</td>\n",
       "      <td>40.857143</td>\n",
       "      <td>12.809524</td>\n",
       "    </tr>\n",
       "    <tr>\n",
       "      <th>2</th>\n",
       "      <td>102</td>\n",
       "      <td>Choose Region Modal</td>\n",
       "      <td>101</td>\n",
       "      <td>3</td>\n",
       "      <td>2</td>\n",
       "      <td>22</td>\n",
       "      <td>40.500000</td>\n",
       "      <td>13.166667</td>\n",
       "    </tr>\n",
       "    <tr>\n",
       "      <th>3</th>\n",
       "      <td>114</td>\n",
       "      <td>Category List</td>\n",
       "      <td>112</td>\n",
       "      <td>5</td>\n",
       "      <td>7</td>\n",
       "      <td>26</td>\n",
       "      <td>40.285714</td>\n",
       "      <td>13.380952</td>\n",
       "    </tr>\n",
       "    <tr>\n",
       "      <th>4</th>\n",
       "      <td>164</td>\n",
       "      <td>Check Event</td>\n",
       "      <td>114</td>\n",
       "      <td>3</td>\n",
       "      <td>6</td>\n",
       "      <td>10</td>\n",
       "      <td>29.500000</td>\n",
       "      <td>24.166667</td>\n",
       "    </tr>\n",
       "    <tr>\n",
       "      <th>...</th>\n",
       "      <td>...</td>\n",
       "      <td>...</td>\n",
       "      <td>...</td>\n",
       "      <td>...</td>\n",
       "      <td>...</td>\n",
       "      <td>...</td>\n",
       "      <td>...</td>\n",
       "      <td>...</td>\n",
       "    </tr>\n",
       "    <tr>\n",
       "      <th>95</th>\n",
       "      <td>132</td>\n",
       "      <td>Share Movie</td>\n",
       "      <td>127</td>\n",
       "      <td>8</td>\n",
       "      <td>5</td>\n",
       "      <td>0</td>\n",
       "      <td>9.400000</td>\n",
       "      <td>44.266667</td>\n",
       "    </tr>\n",
       "    <tr>\n",
       "      <th>96</th>\n",
       "      <td>110</td>\n",
       "      <td>Continue with Google</td>\n",
       "      <td>107</td>\n",
       "      <td>7</td>\n",
       "      <td>3</td>\n",
       "      <td>0</td>\n",
       "      <td>8.666667</td>\n",
       "      <td>45.000000</td>\n",
       "    </tr>\n",
       "    <tr>\n",
       "      <th>97</th>\n",
       "      <td>170</td>\n",
       "      <td>Event Terms</td>\n",
       "      <td>164</td>\n",
       "      <td>3</td>\n",
       "      <td>1</td>\n",
       "      <td>0</td>\n",
       "      <td>8.000000</td>\n",
       "      <td>45.666667</td>\n",
       "    </tr>\n",
       "    <tr>\n",
       "      <th>98</th>\n",
       "      <td>115</td>\n",
       "      <td>Customer Care</td>\n",
       "      <td>103</td>\n",
       "      <td>7</td>\n",
       "      <td>2</td>\n",
       "      <td>0</td>\n",
       "      <td>7.500000</td>\n",
       "      <td>46.166667</td>\n",
       "    </tr>\n",
       "    <tr>\n",
       "      <th>99</th>\n",
       "      <td>109</td>\n",
       "      <td>Continue with Facebook</td>\n",
       "      <td>107</td>\n",
       "      <td>7</td>\n",
       "      <td>1</td>\n",
       "      <td>0</td>\n",
       "      <td>4.000000</td>\n",
       "      <td>49.666667</td>\n",
       "    </tr>\n",
       "  </tbody>\n",
       "</table>\n",
       "<p>100 rows × 8 columns</p>\n",
       "</div>"
      ],
      "text/plain": [
       "    Req ID                Req Name  Pre-requisite  Cost  Value  PRE_REQ_COUNT  \\\n",
       "0      103               Home Page            102     7      8             35   \n",
       "1      143     Proceed for Payment            142     1      7             21   \n",
       "2      102     Choose Region Modal            101     3      2             22   \n",
       "3      114           Category List            112     5      7             26   \n",
       "4      164             Check Event            114     3      6             10   \n",
       "..     ...                     ...            ...   ...    ...            ...   \n",
       "95     132            Share Movie             127     8      5              0   \n",
       "96     110    Continue with Google            107     7      3              0   \n",
       "97     170             Event Terms            164     3      1              0   \n",
       "98     115           Customer Care            103     7      2              0   \n",
       "99     109  Continue with Facebook            107     7      1              0   \n",
       "\n",
       "    Weightage  Difference  \n",
       "0   54.125000    0.458333  \n",
       "1   40.857143   12.809524  \n",
       "2   40.500000   13.166667  \n",
       "3   40.285714   13.380952  \n",
       "4   29.500000   24.166667  \n",
       "..        ...         ...  \n",
       "95   9.400000   44.266667  \n",
       "96   8.666667   45.000000  \n",
       "97   8.000000   45.666667  \n",
       "98   7.500000   46.166667  \n",
       "99   4.000000   49.666667  \n",
       "\n",
       "[100 rows x 8 columns]"
      ]
     },
     "execution_count": 26,
     "metadata": {},
     "output_type": "execute_result"
    }
   ],
   "source": [
    "psofile"
   ]
  },
  {
   "cell_type": "code",
   "execution_count": 27,
   "metadata": {},
   "outputs": [],
   "source": [
    "psofile.to_csv('output/PSO ouput.csv', index=False, encoding='utf-8')"
   ]
  },
  {
   "cell_type": "markdown",
   "metadata": {},
   "source": [
    "# Comparitive Analysis"
   ]
  },
  {
   "cell_type": "code",
   "execution_count": 28,
   "metadata": {},
   "outputs": [],
   "source": [
    "equality = True\n",
    "for i in range( gafile['Req ID'].count() ):\n",
    "    if gafile['Req ID'][i] != psofile['Req ID'][i]:\n",
    "        print(gafile['Req ID'][i], psofile['Req ID'][i],\" are different!\")\n",
    "        equality = False"
   ]
  },
  {
   "cell_type": "markdown",
   "metadata": {},
   "source": [
    "# Export Output"
   ]
  },
  {
   "cell_type": "code",
   "execution_count": 29,
   "metadata": {},
   "outputs": [
    {
     "data": {
      "text/plain": [
       "1865"
      ]
     },
     "execution_count": 29,
     "metadata": {},
     "output_type": "execute_result"
    }
   ],
   "source": [
    "dict_op = {\n",
    "   \"PSO\":{\n",
    "        \"x\" : pso_result.gbest_x.tolist(),\n",
    "        \"f(x)\" : int(pso_result.gbest_y),\n",
    "        \"xaxis\" : list(pso_result.xaxis),\n",
    "        \"yaxis\" : list(pso_result.yaxis),\n",
    "        \"time\" : float(pso_total)\n",
    "    },\n",
    "    \"GA\":{\n",
    "        \"x\" : best_genome.tolist(),\n",
    "        \"f(x)\" : int(best_fitness),\n",
    "        \"xaxis\" : list(ga.xaxis),\n",
    "        \"yaxis\" : list(ga.yaxis),\n",
    "        \"time\" : float(ga_total)\n",
    "    },\n",
    "    \"Equality\": equality,\n",
    "    \"maximumIterations\": maximumIterations\n",
    "}\n",
    "json_op = json.dumps( dict_op )\n",
    "\n",
    "File = open('output/output.json', 'w')\n",
    "File.write( json_op )"
   ]
  },
  {
   "cell_type": "code",
   "execution_count": 30,
   "metadata": {},
   "outputs": [],
   "source": [
    "File.close()"
   ]
  },
  {
   "cell_type": "markdown",
   "metadata": {},
   "source": [
    "# Export to python3 file"
   ]
  },
  {
   "cell_type": "code",
   "execution_count": 31,
   "metadata": {},
   "outputs": [],
   "source": [
    "# Convert to python3 script file\n",
    "\n",
    "# !jupyter nbconvert --to script \"BMS Requirements\""
   ]
  }
 ],
 "metadata": {
  "kernelspec": {
   "display_name": "Python 3",
   "language": "python",
   "name": "python3"
  },
  "language_info": {
   "codemirror_mode": {
    "name": "ipython",
    "version": 3
   },
   "file_extension": ".py",
   "mimetype": "text/x-python",
   "name": "python",
   "nbconvert_exporter": "python",
   "pygments_lexer": "ipython3",
   "version": "3.6.9"
  }
 },
 "nbformat": 4,
 "nbformat_minor": 4
}
